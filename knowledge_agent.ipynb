{
 "cells": [
  {
   "cell_type": "markdown",
   "id": "d189cfe9",
   "metadata": {},
   "source": [
    "### Importaciones"
   ]
  },
  {
   "cell_type": "code",
   "execution_count": 1,
   "id": "4c95615f",
   "metadata": {},
   "outputs": [],
   "source": [
    "import os\n",
    "from dotenv import load_dotenv\n",
    "from openai import AsyncAzureOpenAI\n",
    "from agents import Agent, OpenAIChatCompletionsModel, Runner\n",
    "from agents.model_settings import ModelSettings\n",
    "from IPython.display import display, Markdown\n",
    "from agents import function_tool\n",
    "from azure.search.documents import SearchClient\n",
    "from azure.core.credentials import AzureKeyCredential\n",
    "from azure.search.documents.indexes.models import SearchIndex, SearchField, VectorSearch, VectorSearchProfile, HnswAlgorithmConfiguration, AzureOpenAIVectorizer, AzureOpenAIVectorizerParameters, SemanticSearch, SemanticConfiguration, SemanticPrioritizedFields, SemanticField\n",
    "from azure.search.documents.indexes import SearchIndexClient"
   ]
  },
  {
   "cell_type": "code",
   "execution_count": 2,
   "id": "4fb79ec7",
   "metadata": {},
   "outputs": [
    {
     "data": {
      "text/plain": [
       "True"
      ]
     },
     "execution_count": 2,
     "metadata": {},
     "output_type": "execute_result"
    }
   ],
   "source": [
    "load_dotenv(override=True)"
   ]
  },
  {
   "cell_type": "markdown",
   "id": "d6606ed7",
   "metadata": {},
   "source": [
    "### Variables de entorno"
   ]
  },
  {
   "cell_type": "code",
   "execution_count": 3,
   "id": "78ba954c",
   "metadata": {},
   "outputs": [],
   "source": [
    "azure_openai_key = os.getenv('AZURE_OPENAI_KEY')\n",
    "azure_openai_endpoint = os.getenv('AZURE_OPENAI_ENDPOINT')\n",
    "\n",
    "azure_openai_gpt_deployment = os.getenv('AZURE_OPENAI_GPT_DEPLOYMENT')\n",
    "azure_openai_gpt_version = os.getenv('AZURE_OPENAI_GPT_VERSION')\n",
    "azure_openai_gpt_model = os.getenv('AZURE_OPENAI_GPT_MODEL')\n",
    "\n",
    "azure_openai_embedding_deployment = os.getenv('AZURE_OPENAI_EMBEDDING_DEPLOYMENT')\n",
    "azure_openai_embedding_version = os.getenv('AZURE_OPENAI_EMBEDDING_VERSION')\n",
    "azure_openai_embedding_model = os.getenv('AZURE_OPENAI_EMBEDDING_MODEL')\n",
    "\n",
    "azure_search_key = os.getenv('AZURE_SEARCH_KEY')\n",
    "azure_search_endpoint = os.getenv('AZURE_SEARCH_ENDPOINT')\n",
    "azure_search_index = os.getenv('AZURE_SEARCH_INDEX')"
   ]
  },
  {
   "cell_type": "markdown",
   "id": "d68111db",
   "metadata": {},
   "source": [
    "### Creación de index por única vez"
   ]
  },
  {
   "cell_type": "code",
   "execution_count": 4,
   "id": "8d6f6528",
   "metadata": {},
   "outputs": [
    {
     "name": "stdout",
     "output_type": "stream",
     "text": [
      "Index 'farmaceutica' created or updated successfully\n"
     ]
    }
   ],
   "source": [
    "index = SearchIndex(\n",
    "    name=azure_search_index,\n",
    "    fields=[\n",
    "        SearchField(name=\"id\", type=\"Edm.String\", key=True, filterable=True, sortable=True, facetable=True),\n",
    "        SearchField(name=\"page_chunk\", type=\"Edm.String\", filterable=False, sortable=False, facetable=False),\n",
    "        SearchField(name=\"page_embedding_text_ada\", type=\"Collection(Edm.Single)\", stored=False, vector_search_dimensions=1536, vector_search_profile_name=\"hnsw_text_ada\"),\n",
    "        SearchField(name=\"page_number\", type=\"Edm.Int32\", filterable=True, sortable=True, facetable=True)\n",
    "    ],\n",
    "    vector_search=VectorSearch(\n",
    "        profiles=[VectorSearchProfile(name=\"hnsw_text_ada\", algorithm_configuration_name=\"alg\", vectorizer_name=\"azure_openai_text_ada\")],\n",
    "        algorithms=[HnswAlgorithmConfiguration(name=\"alg\")],\n",
    "        vectorizers=[\n",
    "            AzureOpenAIVectorizer(\n",
    "                vectorizer_name=\"azure_openai_text_ada\",\n",
    "                parameters=AzureOpenAIVectorizerParameters(\n",
    "                    resource_url=azure_openai_endpoint,\n",
    "                    deployment_name=azure_openai_embedding_deployment,\n",
    "                    model_name=azure_openai_embedding_model\n",
    "                )\n",
    "            )\n",
    "        ]\n",
    "    ),\n",
    "    semantic_search=SemanticSearch(\n",
    "        default_configuration_name=\"semantic_config\",\n",
    "        configurations=[\n",
    "            SemanticConfiguration(\n",
    "                name=\"semantic_config\",\n",
    "                prioritized_fields=SemanticPrioritizedFields(\n",
    "                    content_fields=[\n",
    "                        SemanticField(field_name=\"page_chunk\")\n",
    "                    ]\n",
    "                )\n",
    "            )\n",
    "        ]\n",
    "    )\n",
    ")\n",
    "\n",
    "index_client = SearchIndexClient(endpoint=azure_search_endpoint, credential=AzureKeyCredential(azure_search_key))\n",
    "index_client.create_or_update_index(index)\n",
    "print(f\"Index '{azure_search_index}' created or updated successfully\")"
   ]
  },
  {
   "cell_type": "markdown",
   "id": "8804cd10",
   "metadata": {},
   "source": [
    "### Clientes"
   ]
  },
  {
   "cell_type": "code",
   "execution_count": 4,
   "id": "3fa127e3",
   "metadata": {},
   "outputs": [],
   "source": [
    "client = AsyncAzureOpenAI(\n",
    "    api_key=azure_openai_key,\n",
    "    api_version=azure_openai_gpt_version,\n",
    "    azure_endpoint=azure_openai_endpoint\n",
    ")\n",
    "\n",
    "search_client = SearchClient(\n",
    "    endpoint=azure_search_endpoint, \n",
    "    index_name=azure_search_index, \n",
    "    credential=AzureKeyCredential(azure_search_key)\n",
    ")"
   ]
  },
  {
   "cell_type": "markdown",
   "id": "2092f9c0",
   "metadata": {},
   "source": [
    "### Tools"
   ]
  },
  {
   "cell_type": "code",
   "execution_count": 5,
   "id": "7c10c8a4",
   "metadata": {},
   "outputs": [],
   "source": [
    "@function_tool\n",
    "def search_documents_tool(query: str):\n",
    "    \"\"\"Busca en el índice y devuelve los chunks más relevantes.\"\"\"\n",
    "    try:\n",
    "        results = search_client.search(\n",
    "            search_text=query,\n",
    "            select=[\"page_chunk\", \"page_number\"],\n",
    "            query_type=\"semantic\",\n",
    "            query_caption=\"extractive\",\n",
    "            top=3\n",
    "        )\n",
    "        relevant_chunks = [f\"Página {result['page_number']}: {result['page_chunk']}\" for result in results]\n",
    "        return \"\\n---\\n\".join(relevant_chunks)\n",
    "    except Exception as e:\n",
    "        return f\"Error al buscar: {e}\""
   ]
  },
  {
   "cell_type": "markdown",
   "id": "3c073f38",
   "metadata": {},
   "source": [
    "### Agente conocimiento"
   ]
  },
  {
   "cell_type": "code",
   "execution_count": 6,
   "id": "64790715",
   "metadata": {},
   "outputs": [],
   "source": [
    "knowledge_agent = Agent(\n",
    "    name=\"Agente buscador\",\n",
    "    instructions=\"\"\"\n",
    "    Eres un agente especializado en la recuperación de información. Tu única función es tomar la pregunta del usuario,\n",
    "    ejecutar la herramienta 'search_documents' con esa pregunta y devolver el texto relevante que encontraste.\n",
    "    \"\"\",\n",
    "    model=OpenAIChatCompletionsModel(\n",
    "        model=azure_openai_gpt_deployment,\n",
    "        openai_client=client,\n",
    "    ),\n",
    "    tools=[search_documents_tool],\n",
    "    model_settings=ModelSettings(tool_choice=\"required\")\n",
    ")"
   ]
  },
  {
   "cell_type": "markdown",
   "id": "4158dd64",
   "metadata": {},
   "source": [
    "### Agente farmacéutico"
   ]
  },
  {
   "cell_type": "code",
   "execution_count": 7,
   "id": "45490561",
   "metadata": {},
   "outputs": [],
   "source": [
    "pharma_agent = Agent(\n",
    "    name=\"Agente farmacéutico\",\n",
    "    instructions=\"\"\"\n",
    "    Eres un experto en documentación farmacéutica. Recibes un contexto de búsqueda.\n",
    "    Utiliza **exclusivamente** el contexto proporcionado para responder a la pregunta del usuario de manera concisa y profesional.\n",
    "    Si el contexto no contiene la respuesta, di que no puedes responder basándote en la información disponible.\n",
    "    \"\"\",\n",
    "    model=OpenAIChatCompletionsModel(\n",
    "        model=azure_openai_gpt_deployment,\n",
    "        openai_client=client,\n",
    "    ),\n",
    "    model_settings=ModelSettings(temperature=0.1)\n",
    ")"
   ]
  },
  {
   "cell_type": "markdown",
   "id": "43e92d36",
   "metadata": {},
   "source": [
    "### Ejecución del agente"
   ]
  },
  {
   "cell_type": "code",
   "execution_count": 8,
   "id": "12803e82",
   "metadata": {},
   "outputs": [
    {
     "name": "stderr",
     "output_type": "stream",
     "text": [
      "OPENAI_API_KEY is not set, skipping trace export\n"
     ]
    },
    {
     "data": {
      "text/markdown": [
       "No puedo responder basándome en la información disponible."
      ],
      "text/plain": [
       "<IPython.core.display.Markdown object>"
      ]
     },
     "metadata": {},
     "output_type": "display_data"
    },
    {
     "name": "stderr",
     "output_type": "stream",
     "text": [
      "OPENAI_API_KEY is not set, skipping trace export\n"
     ]
    }
   ],
   "source": [
    "async def main():\n",
    "    # pregunta = \"¿En qué módulo está el CPP?\"\n",
    "    # pregunta = \"¿En qué módulo puedo encontrar estudios en humanos?\"\n",
    "    pregunta = \"¿Cuál es el nombre del producto mencionado en el PoA?\"\n",
    "    \n",
    "    # 1. El knowledge_agent busca la información.\n",
    "    contexto_recuperado = await Runner.run(knowledge_agent, input=pregunta)\n",
    "  \n",
    "    # 2. El pharma_agent recibe la pregunta original y el contexto\n",
    "    result = await Runner.run(pharma_agent, input=pregunta, context=contexto_recuperado.final_output)\n",
    "\n",
    "    display(Markdown(result.final_output))\n",
    "\n",
    "await main()"
   ]
  }
 ],
 "metadata": {
  "kernelspec": {
   "display_name": ".venv",
   "language": "python",
   "name": "python3"
  },
  "language_info": {
   "codemirror_mode": {
    "name": "ipython",
    "version": 3
   },
   "file_extension": ".py",
   "mimetype": "text/x-python",
   "name": "python",
   "nbconvert_exporter": "python",
   "pygments_lexer": "ipython3",
   "version": "3.13.3"
  }
 },
 "nbformat": 4,
 "nbformat_minor": 5
}
