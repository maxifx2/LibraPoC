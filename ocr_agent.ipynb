{
 "cells": [
  {
   "cell_type": "markdown",
   "id": "f7ee8cd9",
   "metadata": {},
   "source": [
    "### Importaciones"
   ]
  },
  {
   "cell_type": "code",
   "execution_count": null,
   "id": "98de52ae",
   "metadata": {},
   "outputs": [],
   "source": [
    "import os, csv, fitz\n",
    "from dotenv import load_dotenv\n",
    "from datetime import datetime\n",
    "from azure.core.credentials import AzureKeyCredential\n",
    "from azure.ai.documentintelligence import DocumentIntelligenceClient"
   ]
  },
  {
   "cell_type": "code",
   "execution_count": null,
   "id": "73000669",
   "metadata": {},
   "outputs": [],
   "source": [
    "load_dotenv(override=True)"
   ]
  },
  {
   "cell_type": "markdown",
   "id": "4a3f453f",
   "metadata": {},
   "source": [
    "### Variables de entorno"
   ]
  },
  {
   "cell_type": "code",
   "execution_count": null,
   "id": "1d715c61",
   "metadata": {},
   "outputs": [],
   "source": [
    "azure_document_intelligence_key = os.getenv(\"AZURE_DOCUMENT_INTELLIGENCE_KEY\")\n",
    "azure_document_intelligence_endpoint = os.getenv(\"AZURE_DOCUMENT_INTELLIGENCE_ENDPOINT\")"
   ]
  },
  {
   "cell_type": "markdown",
   "id": "dd83aac6",
   "metadata": {},
   "source": [
    "### Funciones"
   ]
  },
  {
   "cell_type": "code",
   "execution_count": null,
   "id": "fd6b3e87",
   "metadata": {},
   "outputs": [
    {
     "name": "stdout",
     "output_type": "stream",
     "text": [
      "✅ Listo. Salida: c:\\Work\\Libra\\PoC\\output\\PoA Uruguay\\run_20250808_145233\n",
      "   (Recuerda: en el tier F0 solo se analizan 2 páginas)\n"
     ]
    }
   ],
   "source": [
    "INPUT_PDF = \"PoA Uruguay.pdf\"   # <-- tu PDF\n",
    "ZOOM = 2.0                      # factor de zoom al exportar figuras\n",
    "PADDING = 6                     # px de margen alrededor del polígono\n",
    "OUT_ROOT = \"output\"             # carpeta base de salida (pedido 1)\n",
    "\n",
    "def ensure_env():\n",
    "    if not azure_document_intelligence_key or not azure_document_intelligence_endpoint:\n",
    "        raise RuntimeError(\"Faltan variables de entorno AZURE_DOCUMENT_INTELLIGENCE_KEY o _ENDPOINT\")\n",
    "\n",
    "def make_out_dir(root, input_path):\n",
    "    base = os.path.splitext(os.path.basename(input_path))[0]\n",
    "    run_id = datetime.now().strftime(\"%Y%m%d_%H%M%S\")\n",
    "    out_dir = os.path.join(root, base, f\"run_{run_id}\")\n",
    "    os.makedirs(out_dir, exist_ok=True)\n",
    "    return out_dir\n",
    "\n",
    "def di_polygon_to_fitz_rect(di_polygon, di_page, fitz_page, padding=4):\n",
    "    \"\"\"Escala polígono DI -> Rect en puntos PDF, agrega padding y clampa a la página.\"\"\"\n",
    "    fx_w = fitz_page.rect.width  / di_page.width\n",
    "    fx_h = fitz_page.rect.height / di_page.height\n",
    "    xs = [di_polygon[i] * fx_w for i in range(0, len(di_polygon), 2)]\n",
    "    ys = [di_polygon[i] * fx_h for i in range(1, len(di_polygon), 2)]\n",
    "    r = fitz.Rect(min(xs), min(ys), max(xs), max(ys))\n",
    "    r = fitz.Rect(r.x0 - padding, r.y0 - padding, r.x1 + padding, r.y1 + padding)\n",
    "    return (r & fitz_page.rect)\n",
    "\n",
    "def di_point_to_fitz(pt_x, pt_y, di_page, fitz_page):\n",
    "    \"\"\"Punto DI -> punto en puntos PDF.\"\"\"\n",
    "    fx_w = fitz_page.rect.width  / di_page.width\n",
    "    fx_h = fitz_page.rect.height / di_page.height\n",
    "    return (pt_x * fx_w, pt_y * fx_h)\n",
    "\n",
    "def polygon_centroid(poly):\n",
    "    \"\"\"Centroide simple (promedio) de un polígono [x1,y1,x2,y2,...] en el mismo sistema de coords.\"\"\"\n",
    "    xs = poly[0::2]; ys = poly[1::2]\n",
    "    return (sum(xs) / len(xs), sum(ys) / len(ys))\n",
    "\n",
    "def save_text(result, out_dir):\n",
    "    full = []\n",
    "    for p_idx, page in enumerate(result.pages or []):\n",
    "        lines = [ln.content for ln in (page.lines or [])]\n",
    "        page_text = \"\\n\".join(lines)\n",
    "        full.append(page_text)\n",
    "        with open(os.path.join(out_dir, f\"page_{p_idx+1}.txt\"), \"w\", encoding=\"utf-8\") as f:\n",
    "            f.write(page_text)\n",
    "    with open(os.path.join(out_dir, \"full_text.txt\"), \"w\", encoding=\"utf-8\") as f:\n",
    "        f.write(\"\\n\\n\".join(full))\n",
    "\n",
    "def save_tables(result, out_dir):\n",
    "    for t_idx, table in enumerate(result.tables or []):\n",
    "        grid = [[None for _ in range(table.column_count)] for __ in range(table.row_count)]\n",
    "        for cell in (table.cells or []):\n",
    "            grid[cell.row_index][cell.column_index] = cell.content or \"\"\n",
    "        with open(os.path.join(out_dir, f\"table_{t_idx}.csv\"), \"w\", newline=\"\", encoding=\"utf-8\") as fcsv:\n",
    "            writer = csv.writer(fcsv)\n",
    "            writer.writerows([[c or \"\" for c in row] for row in grid])\n",
    "\n",
    "def words_inside_rect(result, page_index, rect, fitz_page):\n",
    "    \"\"\"Devuelve lista de palabras (strings) cuyo centro cae dentro de rect (en coords PDF).\"\"\"\n",
    "    di_page = result.pages[page_index]\n",
    "    words = []\n",
    "    for w in (di_page.words or []):\n",
    "        cx_di, cy_di = polygon_centroid(w.polygon)\n",
    "        cx, cy = di_point_to_fitz(cx_di, cy_di, di_page, fitz_page)\n",
    "        if rect.contains(fitz.Point(cx, cy)):\n",
    "            words.append((cy, cx, w.content))  # (y, x, texto) para ordenar top-left → bottom-right\n",
    "    # orden simple por Y luego X\n",
    "    words.sort(key=lambda t: (round(t[0], 1), t[1]))\n",
    "    return [t[2] for t in words]\n",
    "\n",
    "def save_figures_with_text(result, pdf_path, out_dir, zoom=2.0, padding=6):\n",
    "    figs = getattr(result, \"figures\", None)\n",
    "    if not figs:\n",
    "        print(\"ℹ️ No hay figuras en el resultado.\")\n",
    "        return\n",
    "\n",
    "    index_rows = []\n",
    "    doc = fitz.open(pdf_path)\n",
    "    try:\n",
    "        for i, fig in enumerate(figs):\n",
    "            regions = getattr(fig, \"bounding_regions\", None) or []\n",
    "            if not regions: \n",
    "                continue\n",
    "            br = regions[0]\n",
    "            pnum0 = br.page_number - 1  # 0-based\n",
    "            fitz_page = doc[pnum0]\n",
    "            di_page = result.pages[pnum0]\n",
    "\n",
    "            rect = di_polygon_to_fitz_rect(br.polygon, di_page, fitz_page, padding=padding)\n",
    "            if rect.is_empty or rect.width == 0 or rect.height == 0:\n",
    "                continue\n",
    "\n",
    "            # Render y guardar imagen\n",
    "            mat = fitz.Matrix(zoom, zoom)\n",
    "            pix = fitz_page.get_pixmap(matrix=mat, clip=rect)\n",
    "            fig_name = f\"figure_{i}.png\"\n",
    "            fig_path = os.path.join(out_dir, fig_name)\n",
    "            pix.save(fig_path)\n",
    "\n",
    "            # Buscar texto dentro del rectángulo\n",
    "            words = words_inside_rect(result, pnum0, rect, fitz_page)\n",
    "            text = \" \".join(words).strip()\n",
    "            has_text = bool(text)\n",
    "\n",
    "            # Guardar sidecar con texto si hay\n",
    "            if has_text:\n",
    "                with open(os.path.join(out_dir, f\"figure_{i}.txt\"), \"w\", encoding=\"utf-8\") as ft:\n",
    "                    ft.write(text)\n",
    "\n",
    "            # Registrar en índice\n",
    "            index_rows.append([fig_name, pnum0 + 1, \"yes\" if has_text else \"no\", text])\n",
    "    finally:\n",
    "        doc.close()\n",
    "\n",
    "    # CSV índice\n",
    "    with open(os.path.join(out_dir, \"figures_index.csv\"), \"w\", newline=\"\", encoding=\"utf-8\") as fcsv:\n",
    "        writer = csv.writer(fcsv)\n",
    "        writer.writerow([\"figure_file\", \"page\", \"has_text\", \"text\"])\n",
    "        writer.writerows(index_rows)"
   ]
  },
  {
   "cell_type": "code",
   "execution_count": null,
   "id": "c442efee",
   "metadata": {},
   "outputs": [],
   "source": [
    "def main():\n",
    "    ensure_env()\n",
    "    out_dir = make_out_dir(OUT_ROOT, INPUT_PDF)\n",
    "\n",
    "    client = DocumentIntelligenceClient(azure_document_intelligence_key, AzureKeyCredential(azure_document_intelligence_endpoint))\n",
    "\n",
    "    with open(INPUT_PDF, \"rb\") as f:\n",
    "        poller = client.begin_analyze_document(\n",
    "            model_id=\"prebuilt-layout\",\n",
    "            body=f,\n",
    "            content_type=\"application/pdf\"\n",
    "        )\n",
    "    result = poller.result()\n",
    "\n",
    "    save_text(result, out_dir)\n",
    "    save_tables(result, out_dir)\n",
    "    save_figures_with_text(result, INPUT_PDF, out_dir, zoom=ZOOM, padding=PADDING)\n",
    "\n",
    "    print(f\"✅ Listo. Salida: {os.path.abspath(out_dir)}\")\n",
    "    print(\"   (Recuerda: en el tier F0 solo se analizan 2 páginas)\")\n",
    "\n",
    "if __name__ == \"__main__\":\n",
    "    main()"
   ]
  }
 ],
 "metadata": {
  "kernelspec": {
   "display_name": ".venv",
   "language": "python",
   "name": "python3"
  },
  "language_info": {
   "codemirror_mode": {
    "name": "ipython",
    "version": 3
   },
   "file_extension": ".py",
   "mimetype": "text/x-python",
   "name": "python",
   "nbconvert_exporter": "python",
   "pygments_lexer": "ipython3",
   "version": "3.13.3"
  }
 },
 "nbformat": 4,
 "nbformat_minor": 5
}
