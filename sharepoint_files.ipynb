{
 "cells": [
  {
   "cell_type": "markdown",
   "id": "9907f60d",
   "metadata": {},
   "source": [
    "### Importaciones"
   ]
  },
  {
   "cell_type": "code",
   "execution_count": null,
   "id": "beb7f759",
   "metadata": {},
   "outputs": [],
   "source": [
    "import os\n",
    "from dotenv import load_dotenv\n",
    "from urllib.parse import quote\n",
    "from office365.runtime.auth.user_credential import UserCredential\n",
    "from office365.sharepoint.client_context import ClientContext"
   ]
  },
  {
   "cell_type": "code",
   "execution_count": 2,
   "id": "d38e5993",
   "metadata": {},
   "outputs": [
    {
     "data": {
      "text/plain": [
       "True"
      ]
     },
     "execution_count": 2,
     "metadata": {},
     "output_type": "execute_result"
    }
   ],
   "source": [
    "load_dotenv(override=True)"
   ]
  },
  {
   "cell_type": "markdown",
   "id": "d64938fc",
   "metadata": {},
   "source": [
    "### Variables de entorno"
   ]
  },
  {
   "cell_type": "code",
   "execution_count": 3,
   "id": "e2915d06",
   "metadata": {},
   "outputs": [],
   "source": [
    "sharepoint_user = os.getenv('SHAREPOINT_USER')\n",
    "sharepoint_password = os.getenv('SHAREPOINT_PASSWORD')\n",
    "sharepoint_site_url = os.getenv('SHAREPOINT_SITE_URL')\n",
    "sharepoint_dossier_url = os.getenv('SHAREPOINT_DOSSIER_URL')"
   ]
  },
  {
   "cell_type": "markdown",
   "id": "4bd8bdbf",
   "metadata": {},
   "source": [
    "### Clientes"
   ]
  },
  {
   "cell_type": "code",
   "execution_count": 4,
   "id": "d56396b7",
   "metadata": {},
   "outputs": [],
   "source": [
    "ctx = ClientContext(sharepoint_site_url).with_credentials(\n",
    "    UserCredential(sharepoint_user, sharepoint_password)\n",
    ")"
   ]
  },
  {
   "cell_type": "markdown",
   "id": "ecc7f767",
   "metadata": {},
   "source": [
    "### Funciones"
   ]
  },
  {
   "cell_type": "code",
   "execution_count": 5,
   "id": "8e524e3b",
   "metadata": {},
   "outputs": [
    {
     "name": "stdout",
     "output_type": "stream",
     "text": [
      "Generado: output\\dossier_estructura.md (158 archivos)\n"
     ]
    }
   ],
   "source": [
    "# --- util: obtener carpeta (manejo de espacios) ---\n",
    "def get_folder(ctx, server_relative_url: str):\n",
    "    try:\n",
    "        folder = ctx.web.get_folder_by_server_relative_url(server_relative_url)\n",
    "        ctx.load(folder)\n",
    "        ctx.execute_query()\n",
    "        return folder\n",
    "    except Exception:\n",
    "        encoded = quote(server_relative_url)\n",
    "        folder = ctx.web.get_folder_by_server_relative_url(encoded)\n",
    "        ctx.load(folder)\n",
    "        ctx.execute_query()\n",
    "        return folder\n",
    "\n",
    "# --- recorrido recursivo que devuelve SOLO archivos (rutas relativas) ---\n",
    "dossier_base = sharepoint_dossier_url.rstrip(\"/\")\n",
    "files_rel = []\n",
    "\n",
    "def walk_files(ctx, folder):\n",
    "    folder.expand([\"Folders\", \"Files\"]).get().execute_query()\n",
    "\n",
    "    # agregar archivos de esta carpeta\n",
    "    for f in folder.files:\n",
    "        srv = f.properties.get(\"ServerRelativeUrl\", \"\")\n",
    "        rel = srv[len(dossier_base):].lstrip(\"/\")  # quitar prefijo del dossier y la primera barra\n",
    "        files_rel.append(rel)\n",
    "\n",
    "    # recorrer subcarpetas\n",
    "    for sub in folder.folders:\n",
    "        walk_files(ctx, sub)\n",
    "\n",
    "root = get_folder(ctx, sharepoint_dossier_url)\n",
    "walk_files(ctx, root)\n",
    "\n",
    "# ordenar para salida estable\n",
    "files_rel.sort(key=lambda p: p.lower())\n",
    "\n",
    "# --- escribir markdown plano ---\n",
    "os.makedirs(\"output\", exist_ok=True)\n",
    "out_path = os.path.join(\"output\", \"dossier_estructura.md\")\n",
    "\n",
    "with open(out_path, \"w\", encoding=\"utf-8\") as f:\n",
    "    f.write(\"Estructura del dossier\\n\")\n",
    "    f.write(f\"Raíz: {dossier_base}\\n\")\n",
    "    for p in files_rel:\n",
    "        f.write(f\"- {p}\\n\")\n",
    "\n",
    "print(f\"Generado: {out_path} ({len(files_rel)} archivos)\")"
   ]
  }
 ],
 "metadata": {
  "kernelspec": {
   "display_name": ".venv",
   "language": "python",
   "name": "python3"
  },
  "language_info": {
   "codemirror_mode": {
    "name": "ipython",
    "version": 3
   },
   "file_extension": ".py",
   "mimetype": "text/x-python",
   "name": "python",
   "nbconvert_exporter": "python",
   "pygments_lexer": "ipython3",
   "version": "3.13.3"
  }
 },
 "nbformat": 4,
 "nbformat_minor": 5
}
