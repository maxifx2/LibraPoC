{
 "cells": [
  {
   "cell_type": "markdown",
   "id": "86c0cb9b",
   "metadata": {},
   "source": [
    "### Importaciones"
   ]
  },
  {
   "cell_type": "code",
   "execution_count": 1,
   "id": "5c727189",
   "metadata": {},
   "outputs": [],
   "source": [
    "import os\n",
    "import io\n",
    "import uuid\n",
    "import fitz  # PyMuPDF\n",
    "from fuzzywuzzy import fuzz\n",
    "from dotenv import load_dotenv\n",
    "from agents import Agent, OpenAIChatCompletionsModel, trace, Runner, function_tool\n",
    "from agents.model_settings import ModelSettings\n",
    "from pydantic import BaseModel, Field\n",
    "from IPython.display import display\n",
    "from office365.runtime.auth.authentication_context import AuthenticationContext\n",
    "from office365.sharepoint.client_context import ClientContext\n",
    "from office365.sharepoint.files.file import File\n",
    "from azure.core.credentials import AzureKeyCredential\n",
    "from azure.ai.documentintelligence import DocumentIntelligenceClient\n",
    "from openai import AsyncAzureOpenAI"
   ]
  },
  {
   "cell_type": "code",
   "execution_count": 2,
   "id": "976e4076",
   "metadata": {},
   "outputs": [
    {
     "data": {
      "text/plain": [
       "True"
      ]
     },
     "execution_count": 2,
     "metadata": {},
     "output_type": "execute_result"
    }
   ],
   "source": [
    "load_dotenv(override=True)"
   ]
  },
  {
   "cell_type": "markdown",
   "id": "cfb9ea65",
   "metadata": {},
   "source": [
    "### Variables de entorno"
   ]
  },
  {
   "cell_type": "code",
   "execution_count": null,
   "id": "6272ebbb",
   "metadata": {},
   "outputs": [],
   "source": [
    "azure_openai_key = os.getenv('AZURE_OPENAI_KEY')\n",
    "azure_openai_endpoint = os.getenv('AZURE_OPENAI_ENDPOINT')\n",
    "\n",
    "azure_openai_gpt_deployment = os.getenv('AZURE_OPENAI_API_DEPLOYMENT')\n",
    "azure_openai_gpt_version = os.getenv('AZURE_OPENAI_API_VERSION')\n",
    "azure_openai_gpt_model = os.getenv('AZURE_OPENAI_API_MODEL')\n",
    "\n",
    "azure_document_intelligence_key = os.getenv(\"AZURE_DOCUMENT_INTELLIGENCE_KEY\")\n",
    "azure_document_intelligence_endpoint = os.getenv(\"AZURE_DOCUMENT_INTELLIGENCE_ENDPOINT\")\n",
    "\n",
    "sharepoint_user = os.getenv('SHAREPOINT_USER')\n",
    "sharepoint_password = os.getenv('SHAREPOINT_PASSWORD')\n",
    "sharepoint_site_url = os.getenv('SHAREPOINT_SITE_URL')\n",
    "sharepoint_dossier_url = os.getenv('SHAREPOINT_DOSSIER_URL')"
   ]
  },
  {
   "cell_type": "markdown",
   "id": "82205bef",
   "metadata": {},
   "source": [
    "### Funciones"
   ]
  },
  {
   "cell_type": "code",
   "execution_count": null,
   "id": "8c623ec2",
   "metadata": {},
   "outputs": [],
   "source": [
    "def download_file_from_sharepoint(ruta_relativa: str) -> bytes:\n",
    "    \"\"\"\n",
    "    Descarga directamente un archivo desde SharePoint usando su ruta relativa completa.\n",
    "    \"\"\"\n",
    "\n",
    "    print(f\"📥 [download_file_from_sharepoint] Descargando desde ruta completa: '{ruta_relativa}'\")\n",
    "\n",
    "    # Autenticación\n",
    "    ctx_auth = AuthenticationContext(sharepoint_site_url)\n",
    "    if not ctx_auth.acquire_token_for_user(sharepoint_user, sharepoint_password):\n",
    "        raise Exception(\"Error al autenticarse en SharePoint.\")\n",
    "\n",
    "    ctx = ClientContext(sharepoint_site_url, ctx_auth)\n",
    "\n",
    "    # Ruta completa del archivo en SharePoint\n",
    "    file_url = f\"{sharepoint_dossier_url}/{ruta_relativa}\"\n",
    "    print(f\"🔗 [download_file_from_sharepoint] URL completa: {file_url}\")\n",
    "\n",
    "    response = File.open_binary(ctx, file_url)\n",
    "    print(\"✅ [download_file_from_sharepoint] Archivo descargado exitosamente\")\n",
    "    return response.content"
   ]
  },
  {
   "cell_type": "code",
   "execution_count": 5,
   "id": "cc77f1e8",
   "metadata": {},
   "outputs": [],
   "source": [
    "def analyze_document_content(file_bytes: bytes) -> str:\n",
    "    \"\"\"\n",
    "    Analiza un documento PDF usando Azure Document Intelligence (prebuilt-read) y guarda el resultado como .md.\n",
    "\n",
    "    Args:\n",
    "        file_bytes (bytes): Contenido del archivo PDF.\n",
    "\n",
    "    Returns:\n",
    "        str: Contenido OCR del documento.\n",
    "    \"\"\"\n",
    "\n",
    "    print(f\"📥 [analyze_document_content] Procesando archivo OCR ({len(file_bytes)} bytes)\")\n",
    "\n",
    "    client = DocumentIntelligenceClient(\n",
    "        endpoint=azure_document_intelligence_endpoint,\n",
    "        credential=AzureKeyCredential(azure_document_intelligence_key)\n",
    "    )\n",
    "\n",
    "    stream = io.BytesIO(file_bytes)\n",
    "\n",
    "    poller = client.begin_analyze_document(\n",
    "        model_id=\"prebuilt-read\",\n",
    "        body=stream,\n",
    "        content_type=\"application/pdf\"\n",
    "    )\n",
    "\n",
    "    result = poller.result()\n",
    "    full_text = result.content\n",
    "\n",
    "    # Guardar en archivo Markdown\n",
    "    os.makedirs(\"output\", exist_ok=True)\n",
    "    output_filename = f\"ocr_result_{uuid.uuid4().hex[:8]}.md\"\n",
    "    output_path = os.path.join(\"output\", output_filename)\n",
    "    with open(output_path, \"w\", encoding=\"utf-8\") as f:\n",
    "        f.write(full_text)\n",
    "\n",
    "    print(f\"✅ [analyze_document_content] Resultado guardado en: {output_path}\")\n",
    "    return full_text"
   ]
  },
  {
   "cell_type": "code",
   "execution_count": 6,
   "id": "d4cab00b",
   "metadata": {},
   "outputs": [],
   "source": [
    "def es_pdf_con_texto(file_bytes: bytes) -> bool:\n",
    "    \"\"\"\n",
    "    Determina si un PDF contiene texto digital o si es solo una imagen escaneada.\n",
    "    Si contiene texto, lo guarda en un archivo .md en la carpeta 'output'.\n",
    "\n",
    "    Args:\n",
    "        file_bytes (bytes): Contenido del archivo PDF.\n",
    "\n",
    "    Returns:\n",
    "        bool: True si el PDF contiene texto, False si solo contiene imágenes.\n",
    "    \"\"\"\n",
    "    print(\"🕵️ [es_pdf_con_texto] Analizando si el PDF contiene texto embebido...\")\n",
    "\n",
    "    try:\n",
    "        with fitz.open(stream=file_bytes, filetype=\"pdf\") as doc:\n",
    "            texto_extraido = \"\"\n",
    "            for page_num, page in enumerate(doc, start=1):\n",
    "                texto = page.get_text().strip()\n",
    "                if texto:\n",
    "                    print(f\"✅ [es_pdf_con_texto] Texto encontrado en página {page_num}\")\n",
    "                    texto_extraido += texto + \"\\n\"\n",
    "\n",
    "            if texto_extraido.strip():\n",
    "                # Guardar el texto en un archivo Markdown\n",
    "                os.makedirs(\"output\", exist_ok=True)\n",
    "                output_filename = f\"texto_pdf_{uuid.uuid4().hex[:8]}.md\"\n",
    "                output_path = os.path.join(\"output\", output_filename)\n",
    "                with open(output_path, \"w\", encoding=\"utf-8\") as f:\n",
    "                    f.write(texto_extraido)\n",
    "\n",
    "                print(f\"📝 [es_pdf_con_texto] Texto guardado en: {output_path}\")\n",
    "                return True\n",
    "\n",
    "            print(\"📷 [es_pdf_con_texto] No se encontró texto embebido. El PDF parece ser una imagen escaneada.\")\n",
    "            return False\n",
    "\n",
    "    except Exception as e:\n",
    "        print(f\"❌ [es_pdf_con_texto] Error al procesar el PDF: {e}\")\n",
    "        return False"
   ]
  },
  {
   "cell_type": "code",
   "execution_count": 7,
   "id": "3dcc8d77",
   "metadata": {},
   "outputs": [],
   "source": [
    "def contiene_palabra_clave(document_content: str, palabra_clave: str) -> bool:\n",
    "    \"\"\"\n",
    "    Verifica si una palabra o frase está presente en el contenido del documento.\n",
    "\n",
    "    Args:\n",
    "        document_content (str): Texto plano del documento (result.content).\n",
    "        palabra_clave (str): Palabra o frase a buscar.\n",
    "\n",
    "    Returns:\n",
    "        bool: True si se encuentra, False si no.\n",
    "    \"\"\"\n",
    "\n",
    "    print(f\"🔍 [contiene_palabra_clave] Buscando palabra: '{palabra_clave}'\")\n",
    "\n",
    "    if not document_content or not palabra_clave:\n",
    "        print(\"⚠️ [contiene_palabra_clave] Texto o palabra vacíos\")\n",
    "        return False\n",
    "\n",
    "    found = palabra_clave.lower() in document_content.lower()\n",
    "    print(f\"✅ [contiene_palabra_clave] ¿Palabra encontrada?: {found}\")\n",
    "    return found\n"
   ]
  },
  {
   "cell_type": "markdown",
   "id": "66999f1a",
   "metadata": {},
   "source": [
    "### Tools"
   ]
  },
  {
   "cell_type": "code",
   "execution_count": null,
   "id": "d93e3c27",
   "metadata": {},
   "outputs": [],
   "source": [
    "@function_tool\n",
    "def verificar_palabra_en_documento(ruta_relativa: str, palabra_clave: str) -> bool:\n",
    "    \"\"\"\n",
    "    Ejecuta el flujo completo: descarga el archivo desde SharePoint usando una ruta relativa completa,\n",
    "    analiza su contenido (OCR solo si es necesario) y verifica si contiene una palabra.\n",
    "\n",
    "    Args:\n",
    "        ruta_relativa (str): Ruta relativa del archivo en SharePoint (ej. 'M1/1. PoA/PoA Uruguay.pdf').\n",
    "        palabra_clave (str): Palabra o frase a buscar en el documento.\n",
    "\n",
    "    Returns:\n",
    "        bool: True si se encuentra la palabra, False si no.\n",
    "    \"\"\"\n",
    "\n",
    "    print(f\"🚀 [verificar_palabra_en_documento] Iniciando flujo para ruta relativa '{ruta_relativa}'\")\n",
    "\n",
    "    try:\n",
    "        # Paso 1: Descargar archivo desde SharePoint\n",
    "        print(f\"⬇️ [verificar_palabra_en_documento] Descargando archivo desde SharePoint...\")\n",
    "        file_bytes = download_file_from_sharepoint(ruta_relativa)\n",
    "        print(f\"📄 [verificar_palabra_en_documento] Archivo descargado: {len(file_bytes)} bytes\")\n",
    "\n",
    "        # Paso 2: Verificar si el PDF tiene texto embebido\n",
    "        if es_pdf_con_texto(file_bytes):\n",
    "            print(\"🧾 [verificar_palabra_en_documento] Usando texto embebido del PDF.\")\n",
    "            with fitz.open(stream=file_bytes, filetype=\"pdf\") as doc:\n",
    "                contenido_texto = \"\\n\".join(page.get_text() for page in doc)\n",
    "        else:\n",
    "            print(\"📷 [verificar_palabra_en_documento] Usando OCR de Azure Document Intelligence.\")\n",
    "            contenido_texto = analyze_document_content(file_bytes)\n",
    "\n",
    "        # Paso 3: Verificar si contiene la palabra clave\n",
    "        resultado = contiene_palabra_clave(document_content=contenido_texto, palabra_clave=palabra_clave)\n",
    "        print(f\"🔍 [verificar_palabra_en_documento] ¿Contiene la palabra '{palabra_clave}'?: {resultado}\")\n",
    "        return resultado\n",
    "\n",
    "    except Exception as e:\n",
    "        print(f\"❌ [verificar_palabra_en_documento] Error en el proceso: {e}\")\n",
    "        return False"
   ]
  },
  {
   "cell_type": "code",
   "execution_count": 9,
   "id": "b5f803b8",
   "metadata": {},
   "outputs": [],
   "source": [
    "def cargar_rutas_desde_md(archivo_md: str) -> list[str]:\n",
    "    rutas = []\n",
    "    with open(archivo_md, \"r\", encoding=\"utf-8\") as f:\n",
    "        for linea in f:\n",
    "            linea = linea.strip()\n",
    "            if linea.startswith(\"- \"):\n",
    "                rutas.append(linea[2:])\n",
    "    return rutas\n",
    "\n",
    "def buscar_con_fuzzy(query: str, rutas: list[str], threshold: int = 50) -> list[tuple[str, int]]:\n",
    "    puntuaciones = [(ruta, fuzz.token_set_ratio(query, ruta)) for ruta in rutas]\n",
    "    return sorted(\n",
    "        [(ruta, score) for ruta, score in puntuaciones if score >= threshold],\n",
    "        key=lambda x: x[1],\n",
    "        reverse=True\n",
    "    )\n",
    "\n",
    "class RutaPunteada(BaseModel):\n",
    "    ruta: str = Field(description=\"Ruta relativa del documento.\")\n",
    "    puntaje: int = Field(description=\"Puntaje de similitud con la palabra clave.\")\n",
    "\n",
    "@function_tool\n",
    "def buscar_rutas_relativas(consulta: str) -> list[RutaPunteada]:\n",
    "    \"\"\"\n",
    "    Devuelve las rutas relativas ordenadas por relevancia junto con su puntaje.\n",
    "    \"\"\"\n",
    "    archivo_md = \"output/dossier_estructura.md\"\n",
    "\n",
    "    print(f\"🔎 [buscar_rutas_relativas] Iniciando búsqueda con palabra clave: '{consulta}'\")\n",
    "    rutas = cargar_rutas_desde_md(archivo_md)\n",
    "    print(f\"📂 Total de rutas cargadas: {len(rutas)}\")\n",
    "\n",
    "    substr_matches = [(r, 100) for r in rutas if consulta.lower() in r.lower()]\n",
    "    fuzzy_matches = buscar_con_fuzzy(consulta, rutas, threshold=50)\n",
    "\n",
    "    todo = substr_matches + fuzzy_matches\n",
    "    todo_unico = {}\n",
    "    for ruta, score in todo:\n",
    "        if ruta not in todo_unico or score > todo_unico[ruta]:\n",
    "            todo_unico[ruta] = score\n",
    "\n",
    "    resultados_ordenados = sorted(todo_unico.items(), key=lambda x: x[1], reverse=True)\n",
    "\n",
    "    print(f\"✅ Rutas encontradas: {len(resultados_ordenados)}\")\n",
    "    if resultados_ordenados:\n",
    "        print(f\"🏅 Mejor coincidencia: Ruta='{resultados_ordenados[0][0]}', Puntaje={resultados_ordenados[0][1]}\")\n",
    "\n",
    "    return [RutaPunteada(ruta=ruta, puntaje=score) for ruta, score in resultados_ordenados]"
   ]
  },
  {
   "cell_type": "code",
   "execution_count": null,
   "id": "5e9b9561",
   "metadata": {},
   "outputs": [],
   "source": [
    "# Instrucciones para el agente\n",
    "ruta_instructions = (\n",
    "    \"Sos un agente experto en identificar documentos relevantes dentro de una estructura de directorios.\\n\"\n",
    "    \"Tu tarea es buscar todas las rutas relativas dentro de un archivo Markdown que contengan documentos relacionados \"\n",
    "    \"con una palabra clave provista por el usuario.\\n\"\n",
    "    \"Debes utilizar la función 'buscar_rutas_relativas' para obtener todas las coincidencias posibles.\\n\"\n",
    "    \"El archivo donde buscar se pasa como parámetro ('archivo_md'), y la palabra clave como 'consulta'.\\n\"\n",
    "    \"Retorná la lista de rutas en formato JSON.\"\n",
    ")\n",
    "\n",
    "class ItemRutas(BaseModel):\n",
    "    ruta: str = Field(description=\"Ruta relativa del documento.\")\n",
    "    puntaje: int = Field(description=\"Puntaje de similitud de la ruta con la palabra clave.\")\n",
    "\n",
    "class ListaRutas(BaseModel):\n",
    "    rutas: list[ItemRutas] = Field(description=\"Lista de rutas relativas de documentos que coinciden con una palabra clave.\")\n",
    "\n",
    "client_buscador = AsyncAzureOpenAI(\n",
    "    api_key=azure_openai_key,\n",
    "    api_version=azure_openai_gpt_version,\n",
    "    azure_endpoint=azure_openai_endpoint\n",
    ")\n",
    "\n",
    "# Crear agente y convertirlo en herramienta\n",
    "buscador_rutas = Agent(\n",
    "    name=\"Buscador de Rutas\",\n",
    "    output_type=ListaRutas,\n",
    "    instructions=ruta_instructions,\n",
    "    model=OpenAIChatCompletionsModel(\n",
    "                model=azure_openai_gpt_deployment,\n",
    "                openai_client=client_buscador,\n",
    "            ),\n",
    "    tools=[buscar_rutas_relativas] \n",
    ")\n",
    "\n",
    "rutas_tool = buscador_rutas.as_tool(\n",
    "    tool_name=\"obtener_rutas_documentos\",\n",
    "    tool_description=\"Devuelve una lista de rutas relativas de documentos que coinciden con una palabra clave.\"\n",
    ")"
   ]
  },
  {
   "cell_type": "code",
   "execution_count": null,
   "id": "77a15078",
   "metadata": {},
   "outputs": [],
   "source": [
    "# Instrucciones para el agente\n",
    "verificar_instructions = (\n",
    "    \"Sos un agente que debe verificar si un documento contiene una palabra clave determinada.\\n\"\n",
    "    \"Para eso, debés usar la herramienta 'verificar_palabra_en_documento'.\\n\"\n",
    "    \"El documento puede contener texto embebido o requerir OCR, y la verificación debe hacerse sobre el contenido completo.\\n\"\n",
    "    \"Retorná solo True o False según si la palabra fue encontrada o no.\"\n",
    ")\n",
    "\n",
    "# Schema de salida\n",
    "class ResultadoVerificacion(BaseModel):\n",
    "    value: bool = Field(description=\"True si se encontró la palabra en el documento, False si no.\")\n",
    "\n",
    "# Cliente OpenAI (podés compartir el mismo `client_buscador`)\n",
    "client_verificador = AsyncAzureOpenAI(\n",
    "    api_key=azure_openai_key,\n",
    "    api_version=azure_openai_gpt_version,\n",
    "    azure_endpoint=azure_openai_endpoint\n",
    ")\n",
    "\n",
    "# Agente como herramienta\n",
    "verificador_palabra = Agent(\n",
    "    name=\"Verificador de Palabra\",\n",
    "    instructions=verificar_instructions,\n",
    "    output_type=ResultadoVerificacion,\n",
    "    model=OpenAIChatCompletionsModel(\n",
    "        model=azure_openai_gpt_deployment,\n",
    "        openai_client=client_verificador,\n",
    "    ),\n",
    "    tools=[verificar_palabra_en_documento]\n",
    ")\n",
    "\n",
    "verificar_tool = verificador_palabra.as_tool(\n",
    "    tool_name=\"verificar_si_documento_contiene_palabra\",\n",
    "    tool_description=\"Verifica si un documento descargado desde SharePoint contiene una palabra clave específica.\"\n",
    ")"
   ]
  },
  {
   "cell_type": "code",
   "execution_count": null,
   "id": "77c1d431",
   "metadata": {},
   "outputs": [],
   "source": [
    "INSTRUCTIONS = \"\"\"\n",
    "Sos un asistente experto en búsqueda documental.\n",
    "\n",
    "Tu objetivo es determinar si una palabra específica aparece en documentos relacionados con una consulta dada. Para ello:\n",
    "\n",
    "1. Usá `obtener_rutas_documentos` con la palabra clave para obtener la lista de documentos más relevantes.\n",
    "2. Elegí **solo el primer resultado** (el más relevante), accediendo al campo `ruta`.\n",
    "3. Separá esa ruta en `subfolder_name` y `file_name`. El `file_name` es la última parte después del `/`, y el resto es el `subfolder_name`.\n",
    "4. Usá `verificar_palabra_en_documento` pasando estos valores junto con la palabra clave original.\n",
    "5. Si se encuentra la palabra, respondé exactamente: `Sí, la palabra fue encontrada`\n",
    "6. Si no se encuentra, respondé exactamente: `No, no se encontró la palabra`\n",
    "\n",
    "No expliques el resultado. No uses rutas intermedias. No adivines.\n",
    "\"\"\"\n",
    "\n",
    "client = AsyncAzureOpenAI(\n",
    "    api_key=azure_openai_key,\n",
    "    api_version=azure_openai_gpt_version,\n",
    "    azure_endpoint=azure_openai_endpoint\n",
    ")\n",
    "\n",
    "search_agent = Agent(\n",
    "    name=\"Verificador de Palabra Clave\",\n",
    "    instructions=INSTRUCTIONS,\n",
    "    tools=[rutas_tool, verificar_tool],\n",
    "    model=OpenAIChatCompletionsModel(\n",
    "                model=azure_openai_gpt_deployment,\n",
    "                openai_client=client,\n",
    "            ),\n",
    "    model_settings=ModelSettings(tool_choice=\"required\")\n",
    ")"
   ]
  },
  {
   "cell_type": "code",
   "execution_count": null,
   "id": "8120a4ec",
   "metadata": {},
   "outputs": [
    {
     "name": "stderr",
     "output_type": "stream",
     "text": [
      "OPENAI_API_KEY is not set, skipping trace export\n"
     ]
    },
    {
     "name": "stdout",
     "output_type": "stream",
     "text": [
      "🔎 [buscar_rutas_relativas] Iniciando búsqueda con palabra clave: 'PoA'\n",
      "📂 Total de rutas cargadas: 158\n",
      "✅ Rutas encontradas: 1\n",
      "🏅 Mejor coincidencia: Ruta='M1/1. PoA/PoA Uruguay.pdf', Puntaje=100\n"
     ]
    },
    {
     "name": "stderr",
     "output_type": "stream",
     "text": [
      "OPENAI_API_KEY is not set, skipping trace export\n"
     ]
    },
    {
     "name": "stdout",
     "output_type": "stream",
     "text": [
      "🚀 [verificar_palabra_en_documento] Iniciando flujo para ruta relativa 'M1/1. PoA/PoA Uruguay.pdf'\n",
      "⬇️ [verificar_palabra_en_documento] Descargando archivo desde SharePoint...\n",
      "📥 [SharePoint] Descargando desde ruta completa: 'M1/1. PoA/PoA Uruguay.pdf'\n",
      "🔗 [SharePoint] URL completa: /sites/LaboratorioLibra/Documentos compartidos/PoC IA Libra Dossier/Dossier/M1/1. PoA/PoA Uruguay.pdf\n"
     ]
    },
    {
     "name": "stderr",
     "output_type": "stream",
     "text": [
      "OPENAI_API_KEY is not set, skipping trace export\n"
     ]
    },
    {
     "name": "stdout",
     "output_type": "stream",
     "text": [
      "✅ [SharePoint] Archivo descargado exitosamente\n",
      "📄 [verificar_palabra_en_documento] Archivo descargado: 136651 bytes\n",
      "🕵️ [es_pdf_con_texto] Analizando si el PDF contiene texto embebido...\n",
      "📷 [es_pdf_con_texto] No se encontró texto embebido. El PDF parece ser una imagen escaneada.\n",
      "📷 [verificar_palabra_en_documento] Usando OCR de Azure Document Intelligence.\n",
      "📥 [analyze_document_content] Procesando archivo OCR (136651 bytes)\n",
      "✅ [analyze_document_content] Resultado guardado en: output\\ocr_result_b5a3984e.md\n",
      "🔍 [contiene_palabra_clave] Buscando palabra: 'ADCETRIS'\n",
      "✅ [contiene_palabra_clave] ¿Palabra encontrada?: True\n",
      "🔍 [verificar_palabra_en_documento] ¿Contiene la palabra 'ADCETRIS'?: True\n"
     ]
    },
    {
     "name": "stderr",
     "output_type": "stream",
     "text": [
      "OPENAI_API_KEY is not set, skipping trace export\n"
     ]
    },
    {
     "name": "stdout",
     "output_type": "stream",
     "text": [
      "Sí, la palabra fue encontrada\n"
     ]
    },
    {
     "name": "stderr",
     "output_type": "stream",
     "text": [
      "OPENAI_API_KEY is not set, skipping trace export\n"
     ]
    }
   ],
   "source": [
    "message = \"\"\"\n",
    "Buscar documentos relacionados con la palabra 'PoA'.\n",
    "Verificar si en alguno de ellos aparece la palabra 'ADCETRIS'.\n",
    "\"\"\"\n",
    "\n",
    "with trace(\"Search\"):  \n",
    "    result = await Runner.run(search_agent, message)\n",
    "    print(result.final_output)"
   ]
  }
 ],
 "metadata": {
  "kernelspec": {
   "display_name": ".venv",
   "language": "python",
   "name": "python3"
  },
  "language_info": {
   "codemirror_mode": {
    "name": "ipython",
    "version": 3
   },
   "file_extension": ".py",
   "mimetype": "text/x-python",
   "name": "python",
   "nbconvert_exporter": "python",
   "pygments_lexer": "ipython3",
   "version": "3.13.3"
  }
 },
 "nbformat": 4,
 "nbformat_minor": 5
}
